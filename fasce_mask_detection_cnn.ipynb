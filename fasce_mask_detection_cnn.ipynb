{
  "nbformat": 4,
  "nbformat_minor": 0,
  "metadata": {
    "colab": {
      "provenance": [],
      "gpuType": "T4"
    },
    "kernelspec": {
      "name": "python3",
      "display_name": "Python 3"
    },
    "language_info": {
      "name": "python"
    },
    "accelerator": "GPU"
  },
  "cells": [
    {
      "cell_type": "code",
      "execution_count": 2,
      "metadata": {
        "colab": {
          "base_uri": "https://localhost:8080/"
        },
        "id": "BnjKwOuj-lx8",
        "outputId": "50926acc-dce1-42fc-9b7b-e672dd799d5b"
      },
      "outputs": [
        {
          "output_type": "stream",
          "name": "stdout",
          "text": [
            "Requirement already satisfied: kaggle in /usr/local/lib/python3.11/dist-packages (1.7.4.5)\n",
            "Requirement already satisfied: bleach in /usr/local/lib/python3.11/dist-packages (from kaggle) (6.2.0)\n",
            "Requirement already satisfied: certifi>=14.05.14 in /usr/local/lib/python3.11/dist-packages (from kaggle) (2025.7.14)\n",
            "Requirement already satisfied: charset-normalizer in /usr/local/lib/python3.11/dist-packages (from kaggle) (3.4.2)\n",
            "Requirement already satisfied: idna in /usr/local/lib/python3.11/dist-packages (from kaggle) (3.10)\n",
            "Requirement already satisfied: protobuf in /usr/local/lib/python3.11/dist-packages (from kaggle) (5.29.5)\n",
            "Requirement already satisfied: python-dateutil>=2.5.3 in /usr/local/lib/python3.11/dist-packages (from kaggle) (2.9.0.post0)\n",
            "Requirement already satisfied: python-slugify in /usr/local/lib/python3.11/dist-packages (from kaggle) (8.0.4)\n",
            "Requirement already satisfied: requests in /usr/local/lib/python3.11/dist-packages (from kaggle) (2.32.3)\n",
            "Requirement already satisfied: setuptools>=21.0.0 in /usr/local/lib/python3.11/dist-packages (from kaggle) (75.2.0)\n",
            "Requirement already satisfied: six>=1.10 in /usr/local/lib/python3.11/dist-packages (from kaggle) (1.17.0)\n",
            "Requirement already satisfied: text-unidecode in /usr/local/lib/python3.11/dist-packages (from kaggle) (1.3)\n",
            "Requirement already satisfied: tqdm in /usr/local/lib/python3.11/dist-packages (from kaggle) (4.67.1)\n",
            "Requirement already satisfied: urllib3>=1.15.1 in /usr/local/lib/python3.11/dist-packages (from kaggle) (2.5.0)\n",
            "Requirement already satisfied: webencodings in /usr/local/lib/python3.11/dist-packages (from kaggle) (0.5.1)\n"
          ]
        }
      ],
      "source": [
        "!pip install kaggle"
      ]
    },
    {
      "cell_type": "code",
      "source": [
        "!mkdir -p ~/.kaggle\n",
        "!cp kaggle.json ~/.kaggle/\n",
        "!chmod 600 ~/.kaggle/kaggle.json"
      ],
      "metadata": {
        "id": "gk-eMDRH-1Tr"
      },
      "execution_count": 4,
      "outputs": []
    },
    {
      "cell_type": "code",
      "source": [
        "!kaggle datasets download -d omkargurav/face-mask-dataset"
      ],
      "metadata": {
        "colab": {
          "base_uri": "https://localhost:8080/"
        },
        "id": "oxIXyl3c_6Hl",
        "outputId": "984e2f93-1af8-423a-f877-27d442bf1fb5"
      },
      "execution_count": 6,
      "outputs": [
        {
          "output_type": "stream",
          "name": "stdout",
          "text": [
            "Dataset URL: https://www.kaggle.com/datasets/omkargurav/face-mask-dataset\n",
            "License(s): unknown\n",
            "Downloading face-mask-dataset.zip to /content\n",
            " 79% 129M/163M [00:00<00:00, 1.35GB/s]\n",
            "100% 163M/163M [00:00<00:00, 1.24GB/s]\n"
          ]
        }
      ]
    },
    {
      "cell_type": "code",
      "source": [
        "from zipfile import ZipFile\n",
        "dataset = '/content/face-mask-dataset.zip'\n",
        "\n",
        "with ZipFile(dataset,'r') as zip:\n",
        "  zip.extractall()\n",
        "  print('Dataset extraction successful!')"
      ],
      "metadata": {
        "colab": {
          "base_uri": "https://localhost:8080/"
        },
        "id": "VUNgzbcfAN3n",
        "outputId": "1b29fd67-2d36-455d-b188-ff75b757c45c"
      },
      "execution_count": 7,
      "outputs": [
        {
          "output_type": "stream",
          "name": "stdout",
          "text": [
            "Dataset extraction successful!\n"
          ]
        }
      ]
    },
    {
      "cell_type": "code",
      "source": [
        "import os\n",
        "import numpy as np\n",
        "import matplotlib.pyplot as plt\n",
        "import matplotlib.image as mpimg\n",
        "import cv2\n",
        "from google.colab.patches import cv2_imshow\n",
        "from PIL import Image\n",
        "from sklearn.model_selection import train_test_split\n",
        "\n",
        "import tensorflow as tf\n",
        "from tensorflow import keras\n",
        "from tensorflow.keras import layers,models"
      ],
      "metadata": {
        "id": "qy-LLyA5A1L0"
      },
      "execution_count": 8,
      "outputs": []
    },
    {
      "cell_type": "code",
      "source": [
        "with_mask_files = os.listdir('/content/data/with_mask')\n",
        "\n",
        "without_mask_files = os.listdir('/content/data/without_mask')"
      ],
      "metadata": {
        "id": "jgSjOJX3Biay"
      },
      "execution_count": 9,
      "outputs": []
    },
    {
      "cell_type": "code",
      "source": [
        "print(\"Number of images with mask: \",len(with_mask_files))\n",
        "print(\"Number of images without mask: \",len(without_mask_files))"
      ],
      "metadata": {
        "colab": {
          "base_uri": "https://localhost:8080/"
        },
        "id": "r-korU4gCDxo",
        "outputId": "6dcbf9b1-ee20-4f47-91d5-1f8f2aa5cc9f"
      },
      "execution_count": 10,
      "outputs": [
        {
          "output_type": "stream",
          "name": "stdout",
          "text": [
            "Number of images with mask:  3725\n",
            "Number of images without mask:  3828\n"
          ]
        }
      ]
    },
    {
      "cell_type": "markdown",
      "source": [
        "Labels\n",
        "\n",
        "with mask --> 0\n",
        "\n",
        "without mask -->1"
      ],
      "metadata": {
        "id": "2W18aOQ5CbHr"
      }
    },
    {
      "cell_type": "code",
      "source": [
        "with_mask_labels = [1]*len(with_mask_files)\n",
        "without_mask_labels = [0]*len(without_mask_files)\n",
        "\n",
        "labels = with_mask_labels + without_mask_labels"
      ],
      "metadata": {
        "id": "XhI8fI56CZ5b"
      },
      "execution_count": 11,
      "outputs": []
    },
    {
      "cell_type": "markdown",
      "source": [
        "Process the image to be uniform in size"
      ],
      "metadata": {
        "id": "r6sxhXEJDUxH"
      }
    },
    {
      "cell_type": "code",
      "source": [
        "with_mask_path = '/content/data/with_mask/'\n",
        "without_mask_path = '/content/data/without_mask/'\n",
        "data = []\n",
        "\n",
        "for eachImg in with_mask_files:\n",
        "  image = Image.open(with_mask_path + eachImg)\n",
        "  image = image.resize((128,128))\n",
        "  image = image.convert('RGB')\n",
        "  image = np.array(image)\n",
        "  data.append(image)\n",
        "\n",
        "for eachImg in without_mask_files:\n",
        "  image = Image.open(without_mask_path + eachImg)\n",
        "  image = image.resize((128,128))\n",
        "  image = image.convert('RGB')\n",
        "  image = np.array(image)\n",
        "  data.append(image)"
      ],
      "metadata": {
        "colab": {
          "base_uri": "https://localhost:8080/"
        },
        "id": "4RPdWtPYDac2",
        "outputId": "d68a7121-4e49-42de-a21b-3ad81ca17034"
      },
      "execution_count": 12,
      "outputs": [
        {
          "output_type": "stream",
          "name": "stderr",
          "text": [
            "/usr/local/lib/python3.11/dist-packages/PIL/Image.py:1047: UserWarning: Palette images with Transparency expressed in bytes should be converted to RGBA images\n",
            "  warnings.warn(\n"
          ]
        }
      ]
    },
    {
      "cell_type": "code",
      "source": [
        "X = np.array(data)\n",
        "Y= np.array(labels)"
      ],
      "metadata": {
        "id": "1xuywP5ZF2o-"
      },
      "execution_count": 13,
      "outputs": []
    },
    {
      "cell_type": "markdown",
      "source": [
        "Train and Test data spilt"
      ],
      "metadata": {
        "id": "fgfjlF00GM6Y"
      }
    },
    {
      "cell_type": "code",
      "source": [
        "x_train,x_test,y_train,y_test = train_test_split(X,Y,test_size=0.2,random_state=2)"
      ],
      "metadata": {
        "id": "InASrix4GLmN"
      },
      "execution_count": 14,
      "outputs": []
    },
    {
      "cell_type": "code",
      "source": [
        "x_train = x_train/255.0\n",
        "x_test = x_test/255.0"
      ],
      "metadata": {
        "id": "D9jSOryvGlVu"
      },
      "execution_count": 15,
      "outputs": []
    },
    {
      "cell_type": "code",
      "source": [
        "numClasses = 2\n",
        "\n",
        "model = keras.Sequential()\n",
        "\n",
        "#1st conolutional layer\n",
        "model.add(layers.Conv2D(32,kernel_size=(3,3),activation='relu',input_shape=(128,128,3)))\n",
        "model.add(layers.MaxPool2D(pool_size=(2,2)))\n",
        "\n",
        "#2nd convolutional layer\n",
        "model.add(layers.Conv2D(64,kernel_size=(3,3),activation='relu'))\n",
        "model.add(layers.MaxPool2D(pool_size=(2,2)))\n",
        "\n",
        "#flatten\n",
        "model.add(layers.Flatten())\n",
        "\n",
        "#dense layer 1\n",
        "model.add(layers.Dense(128,activation='relu'))\n",
        "model.add(layers.Dropout(0.5))\n",
        "\n",
        "#dense layer 2\n",
        "model.add(layers.Dense(64,activation='relu'))\n",
        "model.add(layers.Dropout(0.5))\n",
        "\n",
        "#final/output layer\n",
        "model.add(layers.Dense(numClasses,activation='sigmoid'))\n",
        "\n"
      ],
      "metadata": {
        "colab": {
          "base_uri": "https://localhost:8080/"
        },
        "id": "Tm37D3K_GuZu",
        "outputId": "f3dfc7aa-2eb1-4b40-ee4b-06061fed1d65"
      },
      "execution_count": 16,
      "outputs": [
        {
          "output_type": "stream",
          "name": "stderr",
          "text": [
            "/usr/local/lib/python3.11/dist-packages/keras/src/layers/convolutional/base_conv.py:107: UserWarning: Do not pass an `input_shape`/`input_dim` argument to a layer. When using Sequential models, prefer using an `Input(shape)` object as the first layer in the model instead.\n",
            "  super().__init__(activity_regularizer=activity_regularizer, **kwargs)\n"
          ]
        }
      ]
    },
    {
      "cell_type": "code",
      "source": [
        "model.compile(optimizer='adam',\n",
        "              loss='sparse_categorical_crossentropy',\n",
        "              metrics=['accuracy'])"
      ],
      "metadata": {
        "id": "gNzAegNVKMSy"
      },
      "execution_count": 17,
      "outputs": []
    },
    {
      "cell_type": "code",
      "source": [
        "history = model.fit(x_train,y_train,epochs=5)\n"
      ],
      "metadata": {
        "colab": {
          "base_uri": "https://localhost:8080/"
        },
        "id": "wYF8FrstK-Ka",
        "outputId": "b5b759c1-cc5b-4f0d-9aaf-fec8670fae2b"
      },
      "execution_count": 18,
      "outputs": [
        {
          "output_type": "stream",
          "name": "stdout",
          "text": [
            "Epoch 1/5\n",
            "\u001b[1m189/189\u001b[0m \u001b[32m━━━━━━━━━━━━━━━━━━━━\u001b[0m\u001b[37m\u001b[0m \u001b[1m11s\u001b[0m 28ms/step - accuracy: 0.7159 - loss: 0.5955\n",
            "Epoch 2/5\n",
            "\u001b[1m189/189\u001b[0m \u001b[32m━━━━━━━━━━━━━━━━━━━━\u001b[0m\u001b[37m\u001b[0m \u001b[1m4s\u001b[0m 16ms/step - accuracy: 0.8772 - loss: 0.3049\n",
            "Epoch 3/5\n",
            "\u001b[1m189/189\u001b[0m \u001b[32m━━━━━━━━━━━━━━━━━━━━\u001b[0m\u001b[37m\u001b[0m \u001b[1m5s\u001b[0m 15ms/step - accuracy: 0.8997 - loss: 0.2399\n",
            "Epoch 4/5\n",
            "\u001b[1m189/189\u001b[0m \u001b[32m━━━━━━━━━━━━━━━━━━━━\u001b[0m\u001b[37m\u001b[0m \u001b[1m5s\u001b[0m 15ms/step - accuracy: 0.9152 - loss: 0.1959\n",
            "Epoch 5/5\n",
            "\u001b[1m189/189\u001b[0m \u001b[32m━━━━━━━━━━━━━━━━━━━━\u001b[0m\u001b[37m\u001b[0m \u001b[1m5s\u001b[0m 15ms/step - accuracy: 0.9249 - loss: 0.1798\n"
          ]
        }
      ]
    },
    {
      "cell_type": "code",
      "source": [
        "loss,accuracy = model.evaluate(x_test,y_test)\n",
        "print(f\"Test accuracy: {accuracy} | Test loss: {loss}\")"
      ],
      "metadata": {
        "colab": {
          "base_uri": "https://localhost:8080/"
        },
        "id": "sEMKIPEmLO2c",
        "outputId": "f6d629db-6471-41b4-c4eb-e9286c7fba2d"
      },
      "execution_count": 19,
      "outputs": [
        {
          "output_type": "stream",
          "name": "stdout",
          "text": [
            "\u001b[1m48/48\u001b[0m \u001b[32m━━━━━━━━━━━━━━━━━━━━\u001b[0m\u001b[37m\u001b[0m \u001b[1m2s\u001b[0m 18ms/step - accuracy: 0.9150 - loss: 0.2417\n",
            "Test accuracy: 0.9238914847373962 | Test loss: 0.21988405287265778\n"
          ]
        }
      ]
    },
    {
      "cell_type": "code",
      "source": [
        "class_names = ['With Mask','Without Mask']"
      ],
      "metadata": {
        "id": "UK93llUFcNQj"
      },
      "execution_count": 28,
      "outputs": []
    },
    {
      "cell_type": "code",
      "source": [
        "def predict_custom_image(model, img_path):\n",
        "\n",
        "  # 1. Load and resize the image\n",
        "  img = Image.open(img_path)\n",
        "  # The model expects 128x128 images\n",
        "  img = img.resize((128, 128))\n",
        "\n",
        "  # 2. Convert to NumPy array and normalize\n",
        "  img_array = np.array(img)\n",
        "  img_array = img_array / 255.0\n",
        "\n",
        "\n",
        "  img_batch = np.expand_dims(img_array, axis=0)\n",
        "\n",
        "  # 4. Make a prediction\n",
        "  prediction = model.predict(img_batch)\n",
        "  pred_class_index = np.argmax(prediction[0])\n",
        "  confidence = np.max(prediction[0]) * 100\n",
        "  predicted_class_name = class_names[pred_class_index]\n",
        "\n",
        "  # 5. Display the result\n",
        "  plt.figure(figsize=(6, 6))\n",
        "  plt.imshow(img)\n",
        "  plt.title(f\"Predicted: {predicted_class_name}\\nConfidence: {confidence:.2f}%\")\n",
        "  plt.axis('off')\n",
        "  plt.show()\n",
        "\n",
        "  print(f\"The model predicted this image is a: {predicted_class_name}\")\n"
      ],
      "metadata": {
        "id": "NRuM47O0VZ0F"
      },
      "execution_count": 38,
      "outputs": []
    },
    {
      "cell_type": "code",
      "source": [
        "imgPath = '/content/custom_datasets/img6.jpg'\n",
        "predict_custom_image(model,imgPath)"
      ],
      "metadata": {
        "colab": {
          "base_uri": "https://localhost:8080/",
          "height": 578
        },
        "id": "cv76iiFuXqvj",
        "outputId": "1e706405-717d-43b4-b60f-07e2b8a759c1"
      },
      "execution_count": 43,
      "outputs": [
        {
          "output_type": "stream",
          "name": "stdout",
          "text": [
            "\u001b[1m1/1\u001b[0m \u001b[32m━━━━━━━━━━━━━━━━━━━━\u001b[0m\u001b[37m\u001b[0m \u001b[1m0s\u001b[0m 28ms/step\n"
          ]
        },
        {
          "output_type": "display_data",
          "data": {
            "text/plain": [
              "<Figure size 600x600 with 1 Axes>"
            ],
            "image/png": "[encoded data removed]"
          },
          "metadata": {}
        },
        {
          "output_type": "stream",
          "name": "stdout",
          "text": [
            "The model predicted this image is a: With Mask\n"
          ]
        }
      ]
    }
  ]
}